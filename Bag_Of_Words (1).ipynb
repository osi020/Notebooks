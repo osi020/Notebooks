{
  "cells": [
    {
      "cell_type": "markdown",
      "source": [
        "# Bag Of Words Hands On"
      ],
      "metadata": {
        "id": "6sKMF3fLq-LX"
      }
    },
    {
      "cell_type": "markdown",
      "metadata": {
        "id": "RBvK6h5HWO0p"
      },
      "source": [
        "Define `docs` array that contains the paths of `doc1.txt`, `doc2.txt`, and `doc3.txt`."
      ]
    },
    {
      "cell_type": "code",
      "execution_count": null,
      "metadata": {
        "id": "NagziMhYWO0r"
      },
      "outputs": [],
      "source": [
        "docs = ['doc1.txt', 'doc2.txt', 'doc3.txt']"
      ]
    },
    {
      "cell_type": "markdown",
      "source": [],
      "metadata": {
        "id": "aiPJcVqzrEO5"
      }
    },
    {
      "cell_type": "markdown",
      "metadata": {
        "id": "6Xe1MzZBWO0r"
      },
      "source": [
        "Define an empty array `corpus` that will contain the content strings of the docs. Loop `docs` and read the content of each doc into the `corpus` array."
      ]
    },
    {
      "cell_type": "code",
      "execution_count": null,
      "metadata": {
        "id": "qzzJp3XAWO0s"
      },
      "outputs": [],
      "source": [
        "corpus = []\n",
        "for doc in docs:\n",
        "    # Open and read the content of the document\n",
        "    with open(doc, 'r') as file:\n",
        "        content = file.read()\n",
        "        # Append the content to the corpus array\n",
        "        corpus.append(content)\n",
        "corpus = [text.lower().replace('.', '') for text in corpus]\n"
      ]
    },
    {
      "cell_type": "markdown",
      "metadata": {
        "id": "Kwrkcl3DWO0s"
      },
      "source": [
        "Print `corpus`."
      ]
    },
    {
      "cell_type": "code",
      "execution_count": null,
      "metadata": {
        "id": "NpJbbic-WO0s"
      },
      "outputs": [],
      "source": [
        "print(corpus)"
      ]
    },
    {
      "cell_type": "markdown",
      "metadata": {
        "id": "qy66_ZoMWO0t"
      },
      "source": [
        "Now define `bag_of_words` as an empty array. It will contain the unique terms in `corpus`.\n",
        "\n",
        "Loop through `corpus`. In each loop, do the following:\n",
        "\n",
        "1. Break the string into an array of terms.\n",
        "1. Create a sub-loop to iterate the terms array.\n",
        "  * In each sub-loop, you'll check if the current term is already contained in `bag_of_words`. If not in `bag_of_words`, append it to the array."
      ]
    },
    {
      "cell_type": "code",
      "execution_count": null,
      "metadata": {
        "colab": {
          "base_uri": "https://localhost:8080/"
        },
        "id": "XFy0hDcBWO0t",
        "outputId": "fece750b-b240-413c-b3cb-b3d92ad2b406"
      },
      "outputs": [
        {
          "output_type": "stream",
          "name": "stdout",
          "text": [
            "['ironhack', 'is', 'cool', 'i', 'love', 'am', 'a', 'student', 'at']\n"
          ]
        }
      ],
      "source": [
        "bag_of_words = []\n",
        "for text in corpus:\n",
        "    words = text.split()\n",
        "    for word in words:\n",
        "        if word not in bag_of_words:\n",
        "            bag_of_words.append(word)\n",
        "print(bag_of_words)"
      ]
    },
    {
      "cell_type": "markdown",
      "metadata": {
        "id": "2BeF1lJZWO0t"
      },
      "source": [
        "Print `bag_of_words`. You should see:\n",
        "\n",
        "```['ironhack', 'is', 'cool', 'i', 'love', 'am', 'a', 'student', 'at']```"
      ]
    },
    {
      "cell_type": "markdown",
      "metadata": {
        "id": "Ny7t62RWWO0u"
      },
      "source": [
        "Now we define an empty array called `term_freq`. Loop `corpus` for a second time. In each loop, create a sub-loop to iterate the terms in `bag_of_words`. Count how many times each term appears in each doc of `corpus`. Append the term-frequency array to `term_freq`."
      ]
    },
    {
      "cell_type": "code",
      "execution_count": null,
      "metadata": {
        "colab": {
          "base_uri": "https://localhost:8080/"
        },
        "id": "K4o_HqpCWO0u",
        "outputId": "d4f907bd-560f-4af3-b4e1-2c058795f9ab"
      },
      "outputs": [
        {
          "output_type": "stream",
          "name": "stdout",
          "text": [
            "[[1, 1, 1, 0, 0, 0, 0, 0, 0], [1, 0, 0, 1, 1, 0, 0, 0, 0], [1, 0, 0, 1, 0, 1, 1, 1, 1]]\n"
          ]
        }
      ],
      "source": [
        "term_freq = []\n",
        "for text in corpus:\n",
        "    word_count = []\n",
        "    for word in bag_of_words:\n",
        "        word_count.append(text.split().count(word))\n",
        "    term_freq.append(word_count)\n",
        "print(term_freq)\n",
        "# Write your code here"
      ]
    },
    {
      "cell_type": "markdown",
      "metadata": {
        "id": "D4oQYooUWO0u"
      },
      "source": [
        "Print `term_freq`. You should see:\n",
        "\n",
        "```[[1, 1, 1, 0, 0, 0, 0, 0, 0], [1, 0, 0, 1, 1, 0, 0, 0, 0], [1, 0, 0, 1, 0, 1, 1, 1, 1]]```"
      ]
    },
    {
      "cell_type": "code",
      "execution_count": null,
      "metadata": {
        "id": "DEkbFO7mWO0u"
      },
      "outputs": [],
      "source": [
        "print(term_freq)"
      ]
    }
  ],
  "metadata": {
    "kernelspec": {
      "display_name": "Python 3",
      "language": "python",
      "name": "python3"
    },
    "language_info": {
      "codemirror_mode": {
        "name": "ipython",
        "version": 3
      },
      "file_extension": ".py",
      "mimetype": "text/x-python",
      "name": "python",
      "nbconvert_exporter": "python",
      "pygments_lexer": "ipython3",
      "version": "3.7.0"
    },
    "colab": {
      "provenance": []
    }
  },
  "nbformat": 4,
  "nbformat_minor": 0
}