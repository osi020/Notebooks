{
  "nbformat": 4,
  "nbformat_minor": 0,
  "metadata": {
    "colab": {
      "provenance": []
    },
    "kernelspec": {
      "name": "python3",
      "display_name": "Python 3"
    },
    "language_info": {
      "name": "python"
    }
  },
  "cells": [
    {
      "cell_type": "markdown",
      "source": [
        "#Continuous Bag of Words & skip-gram"
      ],
      "metadata": {
        "id": "MDBzXnI6YAab"
      }
    },
    {
      "cell_type": "code",
      "source": [
        "!pip install -U gensim"
      ],
      "metadata": {
        "colab": {
          "base_uri": "https://localhost:8080/"
        },
        "id": "SrhBpEYPYLPu",
        "outputId": "cf82bd41-3096-4119-b681-c039a16743d0"
      },
      "execution_count": null,
      "outputs": [
        {
          "output_type": "stream",
          "name": "stdout",
          "text": [
            "Requirement already satisfied: gensim in /usr/local/lib/python3.10/dist-packages (4.3.2)\n",
            "Requirement already satisfied: numpy>=1.18.5 in /usr/local/lib/python3.10/dist-packages (from gensim) (1.25.2)\n",
            "Requirement already satisfied: scipy>=1.7.0 in /usr/local/lib/python3.10/dist-packages (from gensim) (1.11.4)\n",
            "Requirement already satisfied: smart-open>=1.8.1 in /usr/local/lib/python3.10/dist-packages (from gensim) (6.4.0)\n"
          ]
        }
      ]
    },
    {
      "cell_type": "markdown",
      "source": [
        "We will learn how to build word2vec model using gensim."
      ],
      "metadata": {
        "id": "h5S-0maBYTC-"
      }
    },
    {
      "cell_type": "code",
      "source": [
        "import nltk\n",
        "nltk.download('stopwords')\n",
        "from nltk.corpus import stopwords\n",
        "\n",
        "import warnings\n",
        "warnings.filterwarnings('ignore')\n",
        "\n",
        "# Data processing\n",
        "import pandas as pd\n",
        "import re\n",
        "\n",
        "# Modeling\n",
        "from gensim.models import Word2Vec\n",
        "from gensim.models import Phrases\n",
        "from gensim.models.phrases import Phraser\n",
        "\n",
        "stopWords = stopwords.words('english')\n"
      ],
      "metadata": {
        "colab": {
          "base_uri": "https://localhost:8080/"
        },
        "id": "FwXyBEyAYobd",
        "outputId": "cf6b60fc-1faa-44e2-fa6a-6daf252bbeb8"
      },
      "execution_count": null,
      "outputs": [
        {
          "output_type": "stream",
          "name": "stderr",
          "text": [
            "[nltk_data] Downloading package stopwords to /root/nltk_data...\n",
            "[nltk_data]   Package stopwords is already up-to-date!\n"
          ]
        }
      ]
    },
    {
      "cell_type": "markdown",
      "source": [
        "#Load the Data"
      ],
      "metadata": {
        "id": "oedhYadBZWTp"
      }
    },
    {
      "cell_type": "markdown",
      "source": [
        "Load the dataset. The dataset used in this section is available in the data folder as text.zip."
      ],
      "metadata": {
        "id": "mYdIwXRpZdQd"
      }
    },
    {
      "cell_type": "code",
      "source": [
        "data = pd.read_csv('/content/text.csv')\n"
      ],
      "metadata": {
        "id": "8JX7tkBhZjFA"
      },
      "execution_count": null,
      "outputs": []
    },
    {
      "cell_type": "markdown",
      "source": [
        "Let us see what we got in our data:\n",
        "\n"
      ],
      "metadata": {
        "id": "ui-6Ckp_Zs0X"
      }
    },
    {
      "cell_type": "code",
      "source": [
        "data.head()\n"
      ],
      "metadata": {
        "colab": {
          "base_uri": "https://localhost:8080/",
          "height": 224
        },
        "id": "9yyRsS1bZvc8",
        "outputId": "bdd5cf2f-fa5d-4b34-f5e9-91dd5e5d92bb"
      },
      "execution_count": null,
      "outputs": [
        {
          "output_type": "execute_result",
          "data": {
            "text/plain": [
              "  room kind clean strong smell dogs. generally average ok overnight stay youre fussy. would consider staying price right. breakfast free better nothing.\n",
              "0  stayed crown plaza april april . staff friendl...                                                                                                    \n",
              "1  booked hotel hotwire lowest price could find. ...                                                                                                    \n",
              "2  stayed husband sons way alaska cruise. loved h...                                                                                                    \n",
              "3  girlfriends stayed celebrate th birthdays. pla...                                                                                                    \n",
              "4  rooms. one nice clearly updated recently other...                                                                                                    "
            ],
            "text/html": [
              "\n",
              "  <div id=\"df-d75b6e63-05da-4606-96d3-e41ea091aeef\" class=\"colab-df-container\">\n",
              "    <div>\n",
              "<style scoped>\n",
              "    .dataframe tbody tr th:only-of-type {\n",
              "        vertical-align: middle;\n",
              "    }\n",
              "\n",
              "    .dataframe tbody tr th {\n",
              "        vertical-align: top;\n",
              "    }\n",
              "\n",
              "    .dataframe thead th {\n",
              "        text-align: right;\n",
              "    }\n",
              "</style>\n",
              "<table border=\"1\" class=\"dataframe\">\n",
              "  <thead>\n",
              "    <tr style=\"text-align: right;\">\n",
              "      <th></th>\n",
              "      <th>room kind clean strong smell dogs. generally average ok overnight stay youre fussy. would consider staying price right. breakfast free better nothing.</th>\n",
              "    </tr>\n",
              "  </thead>\n",
              "  <tbody>\n",
              "    <tr>\n",
              "      <th>0</th>\n",
              "      <td>stayed crown plaza april april . staff friendl...</td>\n",
              "    </tr>\n",
              "    <tr>\n",
              "      <th>1</th>\n",
              "      <td>booked hotel hotwire lowest price could find. ...</td>\n",
              "    </tr>\n",
              "    <tr>\n",
              "      <th>2</th>\n",
              "      <td>stayed husband sons way alaska cruise. loved h...</td>\n",
              "    </tr>\n",
              "    <tr>\n",
              "      <th>3</th>\n",
              "      <td>girlfriends stayed celebrate th birthdays. pla...</td>\n",
              "    </tr>\n",
              "    <tr>\n",
              "      <th>4</th>\n",
              "      <td>rooms. one nice clearly updated recently other...</td>\n",
              "    </tr>\n",
              "  </tbody>\n",
              "</table>\n",
              "</div>\n",
              "    <div class=\"colab-df-buttons\">\n",
              "\n",
              "  <div class=\"colab-df-container\">\n",
              "    <button class=\"colab-df-convert\" onclick=\"convertToInteractive('df-d75b6e63-05da-4606-96d3-e41ea091aeef')\"\n",
              "            title=\"Convert this dataframe to an interactive table.\"\n",
              "            style=\"display:none;\">\n",
              "\n",
              "  <svg xmlns=\"http://www.w3.org/2000/svg\" height=\"24px\" viewBox=\"0 -960 960 960\">\n",
              "    <path d=\"M120-120v-720h720v720H120Zm60-500h600v-160H180v160Zm220 220h160v-160H400v160Zm0 220h160v-160H400v160ZM180-400h160v-160H180v160Zm440 0h160v-160H620v160ZM180-180h160v-160H180v160Zm440 0h160v-160H620v160Z\"/>\n",
              "  </svg>\n",
              "    </button>\n",
              "\n",
              "  <style>\n",
              "    .colab-df-container {\n",
              "      display:flex;\n",
              "      gap: 12px;\n",
              "    }\n",
              "\n",
              "    .colab-df-convert {\n",
              "      background-color: #E8F0FE;\n",
              "      border: none;\n",
              "      border-radius: 50%;\n",
              "      cursor: pointer;\n",
              "      display: none;\n",
              "      fill: #1967D2;\n",
              "      height: 32px;\n",
              "      padding: 0 0 0 0;\n",
              "      width: 32px;\n",
              "    }\n",
              "\n",
              "    .colab-df-convert:hover {\n",
              "      background-color: #E2EBFA;\n",
              "      box-shadow: 0px 1px 2px rgba(60, 64, 67, 0.3), 0px 1px 3px 1px rgba(60, 64, 67, 0.15);\n",
              "      fill: #174EA6;\n",
              "    }\n",
              "\n",
              "    .colab-df-buttons div {\n",
              "      margin-bottom: 4px;\n",
              "    }\n",
              "\n",
              "    [theme=dark] .colab-df-convert {\n",
              "      background-color: #3B4455;\n",
              "      fill: #D2E3FC;\n",
              "    }\n",
              "\n",
              "    [theme=dark] .colab-df-convert:hover {\n",
              "      background-color: #434B5C;\n",
              "      box-shadow: 0px 1px 3px 1px rgba(0, 0, 0, 0.15);\n",
              "      filter: drop-shadow(0px 1px 2px rgba(0, 0, 0, 0.3));\n",
              "      fill: #FFFFFF;\n",
              "    }\n",
              "  </style>\n",
              "\n",
              "    <script>\n",
              "      const buttonEl =\n",
              "        document.querySelector('#df-d75b6e63-05da-4606-96d3-e41ea091aeef button.colab-df-convert');\n",
              "      buttonEl.style.display =\n",
              "        google.colab.kernel.accessAllowed ? 'block' : 'none';\n",
              "\n",
              "      async function convertToInteractive(key) {\n",
              "        const element = document.querySelector('#df-d75b6e63-05da-4606-96d3-e41ea091aeef');\n",
              "        const dataTable =\n",
              "          await google.colab.kernel.invokeFunction('convertToInteractive',\n",
              "                                                    [key], {});\n",
              "        if (!dataTable) return;\n",
              "\n",
              "        const docLinkHtml = 'Like what you see? Visit the ' +\n",
              "          '<a target=\"_blank\" href=https://colab.research.google.com/notebooks/data_table.ipynb>data table notebook</a>'\n",
              "          + ' to learn more about interactive tables.';\n",
              "        element.innerHTML = '';\n",
              "        dataTable['output_type'] = 'display_data';\n",
              "        await google.colab.output.renderOutput(dataTable, element);\n",
              "        const docLink = document.createElement('div');\n",
              "        docLink.innerHTML = docLinkHtml;\n",
              "        element.appendChild(docLink);\n",
              "      }\n",
              "    </script>\n",
              "  </div>\n",
              "\n",
              "\n",
              "<div id=\"df-7095d49e-f7e5-49c4-a84d-5435243c7d15\">\n",
              "  <button class=\"colab-df-quickchart\" onclick=\"quickchart('df-7095d49e-f7e5-49c4-a84d-5435243c7d15')\"\n",
              "            title=\"Suggest charts\"\n",
              "            style=\"display:none;\">\n",
              "\n",
              "<svg xmlns=\"http://www.w3.org/2000/svg\" height=\"24px\"viewBox=\"0 0 24 24\"\n",
              "     width=\"24px\">\n",
              "    <g>\n",
              "        <path d=\"M19 3H5c-1.1 0-2 .9-2 2v14c0 1.1.9 2 2 2h14c1.1 0 2-.9 2-2V5c0-1.1-.9-2-2-2zM9 17H7v-7h2v7zm4 0h-2V7h2v10zm4 0h-2v-4h2v4z\"/>\n",
              "    </g>\n",
              "</svg>\n",
              "  </button>\n",
              "\n",
              "<style>\n",
              "  .colab-df-quickchart {\n",
              "      --bg-color: #E8F0FE;\n",
              "      --fill-color: #1967D2;\n",
              "      --hover-bg-color: #E2EBFA;\n",
              "      --hover-fill-color: #174EA6;\n",
              "      --disabled-fill-color: #AAA;\n",
              "      --disabled-bg-color: #DDD;\n",
              "  }\n",
              "\n",
              "  [theme=dark] .colab-df-quickchart {\n",
              "      --bg-color: #3B4455;\n",
              "      --fill-color: #D2E3FC;\n",
              "      --hover-bg-color: #434B5C;\n",
              "      --hover-fill-color: #FFFFFF;\n",
              "      --disabled-bg-color: #3B4455;\n",
              "      --disabled-fill-color: #666;\n",
              "  }\n",
              "\n",
              "  .colab-df-quickchart {\n",
              "    background-color: var(--bg-color);\n",
              "    border: none;\n",
              "    border-radius: 50%;\n",
              "    cursor: pointer;\n",
              "    display: none;\n",
              "    fill: var(--fill-color);\n",
              "    height: 32px;\n",
              "    padding: 0;\n",
              "    width: 32px;\n",
              "  }\n",
              "\n",
              "  .colab-df-quickchart:hover {\n",
              "    background-color: var(--hover-bg-color);\n",
              "    box-shadow: 0 1px 2px rgba(60, 64, 67, 0.3), 0 1px 3px 1px rgba(60, 64, 67, 0.15);\n",
              "    fill: var(--button-hover-fill-color);\n",
              "  }\n",
              "\n",
              "  .colab-df-quickchart-complete:disabled,\n",
              "  .colab-df-quickchart-complete:disabled:hover {\n",
              "    background-color: var(--disabled-bg-color);\n",
              "    fill: var(--disabled-fill-color);\n",
              "    box-shadow: none;\n",
              "  }\n",
              "\n",
              "  .colab-df-spinner {\n",
              "    border: 2px solid var(--fill-color);\n",
              "    border-color: transparent;\n",
              "    border-bottom-color: var(--fill-color);\n",
              "    animation:\n",
              "      spin 1s steps(1) infinite;\n",
              "  }\n",
              "\n",
              "  @keyframes spin {\n",
              "    0% {\n",
              "      border-color: transparent;\n",
              "      border-bottom-color: var(--fill-color);\n",
              "      border-left-color: var(--fill-color);\n",
              "    }\n",
              "    20% {\n",
              "      border-color: transparent;\n",
              "      border-left-color: var(--fill-color);\n",
              "      border-top-color: var(--fill-color);\n",
              "    }\n",
              "    30% {\n",
              "      border-color: transparent;\n",
              "      border-left-color: var(--fill-color);\n",
              "      border-top-color: var(--fill-color);\n",
              "      border-right-color: var(--fill-color);\n",
              "    }\n",
              "    40% {\n",
              "      border-color: transparent;\n",
              "      border-right-color: var(--fill-color);\n",
              "      border-top-color: var(--fill-color);\n",
              "    }\n",
              "    60% {\n",
              "      border-color: transparent;\n",
              "      border-right-color: var(--fill-color);\n",
              "    }\n",
              "    80% {\n",
              "      border-color: transparent;\n",
              "      border-right-color: var(--fill-color);\n",
              "      border-bottom-color: var(--fill-color);\n",
              "    }\n",
              "    90% {\n",
              "      border-color: transparent;\n",
              "      border-bottom-color: var(--fill-color);\n",
              "    }\n",
              "  }\n",
              "</style>\n",
              "\n",
              "  <script>\n",
              "    async function quickchart(key) {\n",
              "      const quickchartButtonEl =\n",
              "        document.querySelector('#' + key + ' button');\n",
              "      quickchartButtonEl.disabled = true;  // To prevent multiple clicks.\n",
              "      quickchartButtonEl.classList.add('colab-df-spinner');\n",
              "      try {\n",
              "        const charts = await google.colab.kernel.invokeFunction(\n",
              "            'suggestCharts', [key], {});\n",
              "      } catch (error) {\n",
              "        console.error('Error during call to suggestCharts:', error);\n",
              "      }\n",
              "      quickchartButtonEl.classList.remove('colab-df-spinner');\n",
              "      quickchartButtonEl.classList.add('colab-df-quickchart-complete');\n",
              "    }\n",
              "    (() => {\n",
              "      let quickchartButtonEl =\n",
              "        document.querySelector('#df-7095d49e-f7e5-49c4-a84d-5435243c7d15 button');\n",
              "      quickchartButtonEl.style.display =\n",
              "        google.colab.kernel.accessAllowed ? 'block' : 'none';\n",
              "    })();\n",
              "  </script>\n",
              "</div>\n",
              "\n",
              "    </div>\n",
              "  </div>\n"
            ],
            "application/vnd.google.colaboratory.intrinsic+json": {
              "type": "dataframe",
              "variable_name": "data",
              "summary": "{\n  \"name\": \"data\",\n  \"rows\": 5650,\n  \"fields\": [\n    {\n      \"column\": \"room kind clean strong smell dogs. generally average ok overnight stay youre fussy. would consider staying price right. breakfast free better nothing.\",\n      \"properties\": {\n        \"dtype\": \"string\",\n        \"num_unique_values\": 5650,\n        \"samples\": [\n          \"returned amazing relaxing hours w. husband married rooftop beach year ago. could write whole separate star review experience checked upgraded huge corner room wedding night... special left ice bucket champagne fresh strawberries room arrival. room huge immaculate filled cute clever little things w famous for. next enjoyed amazing couples massage private room spa set us... complimentary champagne wonderful time w didnt even want leave dinner ate downstairs restaurant rice. service decor food outstanding. even feature lots glutenfree items menu gluten intolerant hubby free champagne offered point politely decline brought us complimentary dessert instead. cant say enough great things place. sad leave back sure... hopefully dont wait nd anniversary\",\n          \"wife went washington th birthday decided book j. w. marriott based large part location reviews read trip advisor. took amtrak dc jumped red line union station easy transfer hotel. gotten great deal saturday night reason didnt use marriott points asked room view possible. upgraded vicepresidential suite th floor unbelievable times size normal room. huge bathroom comfortable bed. service facilities could better everyone met greeted us friendly. walked around corner old ebbitts grill wonderful dinner great atmosphere food. make sure get reservation popular. saturday sunday walked monuments museums convenient jw. could better.\",\n          \"fiance decided get away wedding. club quarters offered reasonable rate well situated locale...the good...check fast tall blonde haired guy working behind desk accomodating super efficient...kudos him. unfortunately everything else lacking. rooms substandard condition. due age building walls sound proofing. doors also without air compressors would slam closed. tried take nap could hear kids adults slamming doors running around. room also thermostat would seemed nonfunctional...me fiance froze butts even raising temp highest level. seen better bathrooms rd world hotels tub. fiance got workout moving furniture could find outlet itouch. decided go get pizza bucinassp saw hotels restaurant advertisement book. well asked directions girl front desk circled approximate location. reality say club quarters north location clearly map. thanks us walk circles minutes.... time checkout decided get breakfast english pub next door. dont even bother. hoping get fast could get field museum...no luck.. waited minutes...no service finally tackle one waitresses find going on. end result . orange juice never ordered one slice toast food orders wrong stiffed paid bill manager said change actually went hotel tell front desk happened girl looking gave beautiful smile blank stare. unfortunately restaurants open sunday near hotel otherwise would ran hills. case hotel ran exit.\"\n        ],\n        \"semantic_type\": \"\",\n        \"description\": \"\"\n      }\n    }\n  ]\n}"
            }
          },
          "metadata": {},
          "execution_count": 55
        }
      ]
    },
    {
      "cell_type": "markdown",
      "source": [
        "#Preprocess and prepare the dataset\n",
        "\n"
      ],
      "metadata": {
        "id": "AZeV1cfIZ5z2"
      }
    },
    {
      "cell_type": "markdown",
      "source": [
        "Define a function for preprocessing the data:\n",
        "\n"
      ],
      "metadata": {
        "id": "BucOW4E8aH3Q"
      }
    },
    {
      "cell_type": "code",
      "source": [
        "def pre_process(text):\n",
        "\n",
        "    #convert to lowercase\n",
        "    text = str(text).lower()\n",
        "\n",
        "    #remove all special characters and keep only alpha numeric characters and spaces\n",
        "    text = re.sub(r'[^A-Za-z0-9\\s.]',r'',text)\n",
        "\n",
        "    #remove new lines\n",
        "    text = re.sub(r'\\n',r' ',text)\n",
        "\n",
        "    # remove stop words\n",
        "    text = \" \".join([word for word in text.split() if word not in stopWords])\n",
        "\n",
        "    return text"
      ],
      "metadata": {
        "id": "jrDqk105aJn6"
      },
      "execution_count": null,
      "outputs": []
    },
    {
      "cell_type": "markdown",
      "source": [
        "Now ,we will process our data:"
      ],
      "metadata": {
        "id": "9e2B0Ol8aQQO"
      }
    },
    {
      "cell_type": "code",
      "source": [
        "data.iloc[:, 0] = data.iloc[:, 0].map(lambda x: pre_process(x))\n"
      ],
      "metadata": {
        "id": "KBI6JVMIaTnR"
      },
      "execution_count": null,
      "outputs": []
    },
    {
      "cell_type": "code",
      "source": [
        "data.iloc[:, 0].head()\n"
      ],
      "metadata": {
        "colab": {
          "base_uri": "https://localhost:8080/"
        },
        "id": "qa_qT8gTas_n",
        "outputId": "77a1ea8e-4adb-466c-9ba1-87521d463f79"
      },
      "execution_count": null,
      "outputs": [
        {
          "output_type": "execute_result",
          "data": {
            "text/plain": [
              "0    stayed crown plaza april april . staff friendl...\n",
              "1    booked hotel hotwire lowest price could find. ...\n",
              "2    stayed husband sons way alaska cruise. loved h...\n",
              "3    girlfriends stayed celebrate th birthdays. pla...\n",
              "4    rooms. one nice clearly updated recently other...\n",
              "Name: room kind clean strong smell dogs. generally average ok overnight stay youre fussy. would consider staying price right. breakfast free better nothing., dtype: object"
            ]
          },
          "metadata": {},
          "execution_count": 58
        }
      ]
    },
    {
      "cell_type": "markdown",
      "source": [
        "#Genism library requires input in the from of list of lists. i.e,text = [ [word1, word2, word3], [word1, word2, word3] ].We know that each row in our data contains a set of sentences"
      ],
      "metadata": {
        "id": "l-YQMTo5bNK9"
      }
    },
    {
      "cell_type": "code",
      "source": [
        "data.iloc[1, 0].split('.')[:5]\n"
      ],
      "metadata": {
        "colab": {
          "base_uri": "https://localhost:8080/"
        },
        "id": "w3Nums--a76s",
        "outputId": "5eb142c7-c14b-4e31-8d2a-948eee06c36a"
      },
      "execution_count": null,
      "outputs": [
        {
          "output_type": "execute_result",
          "data": {
            "text/plain": [
              "['booked hotel hotwire lowest price could find',\n",
              " ' got front desk manager gave us smoking room',\n",
              " ' argued little baby would booked room known smoking',\n",
              " ' manager would hear anything told hotwire books cheapest rooms available',\n",
              " ' get go unhappy']"
            ]
          },
          "metadata": {},
          "execution_count": 59
        }
      ]
    },
    {
      "cell_type": "markdown",
      "source": [
        "We currently have the data stored as a list. However, we require it to be structured as a list of lists. To achieve this, we will first split the data by periods ('.') and then further divide each segment by spaces (' '). This process will result in our data being organized into a list of lists, where each inner list corresponds to a segment of the original data delimited by periods and further subdivided by spaces.\n"
      ],
      "metadata": {
        "id": "K0ZYoNmJbnCN"
      }
    },
    {
      "cell_type": "code",
      "source": [
        "corpus = []\n",
        "for line in data.iloc[:, 0]:\n",
        "    sentences = line.split('.')\n",
        "    for sentence in sentences:\n",
        "        words = sentence.split()\n",
        "        if words:  # Check if the list of words is not empty\n",
        "            corpus.append(words)\n"
      ],
      "metadata": {
        "id": "qi5s5AIib4Dp"
      },
      "execution_count": null,
      "outputs": []
    },
    {
      "cell_type": "code",
      "source": [
        "corpus[:2]\n"
      ],
      "metadata": {
        "colab": {
          "base_uri": "https://localhost:8080/"
        },
        "id": "wGnn5wwxcLgZ",
        "outputId": "8972e8fd-0b1a-45a0-d0eb-850505c771d4"
      },
      "execution_count": null,
      "outputs": [
        {
          "output_type": "execute_result",
          "data": {
            "text/plain": [
              "[['stayed', 'crown', 'plaza', 'april', 'april'],\n",
              " ['staff', 'friendly', 'attentive']]"
            ]
          },
          "metadata": {},
          "execution_count": 61
        }
      ]
    },
    {
      "cell_type": "markdown",
      "source": [
        "The problem we have is our corpus contains only unigrams and it will not give us results when we give bigram as an input, for an example say 'san francisco'.To enhance our text data preprocessing, we utilize Gensim's Phrases functions. These functions identify frequently co-occurring words and connect them with an underscore. For instance, 'san francisco' is transformed into 'san_francisco'. We specify the min_count parameter as 25, instructing the model to disregard words and bigrams that appear less frequently than this threshold. This helps filter out less significant terms, improving the quality of our data representation."
      ],
      "metadata": {
        "id": "MPHZZ9D0cmxN"
      }
    },
    {
      "cell_type": "code",
      "source": [
        "phrases = Phrases(sentences=corpus,min_count=25,threshold=50)\n",
        "bigram = Phraser(phrases)"
      ],
      "metadata": {
        "id": "37CrdlOrc0JW"
      },
      "execution_count": null,
      "outputs": []
    },
    {
      "cell_type": "code",
      "source": [
        "for index,sentence in enumerate(corpus):\n",
        "    corpus[index] = bigram[sentence]"
      ],
      "metadata": {
        "id": "gkd__5VYcqdD"
      },
      "execution_count": null,
      "outputs": []
    },
    {
      "cell_type": "code",
      "source": [
        "corpus[111]\n"
      ],
      "metadata": {
        "colab": {
          "base_uri": "https://localhost:8080/"
        },
        "id": "TdyRll6EdJCq",
        "outputId": "898b2d27-3445-411a-b7af-716d97e1586f"
      },
      "execution_count": null,
      "outputs": [
        {
          "output_type": "execute_result",
          "data": {
            "text/plain": [
              "['planning',\n",
              " 'go',\n",
              " 'planet',\n",
              " 'hollywood',\n",
              " 'negotiate',\n",
              " 'travel',\n",
              " 'within',\n",
              " 'main',\n",
              " 'section',\n",
              " 'restaurant',\n",
              " 'shown',\n",
              " 'table',\n",
              " 'otherwise',\n",
              " 'may',\n",
              " 'end',\n",
              " 'like',\n",
              " 'us',\n",
              " 'top',\n",
              " 'floor',\n",
              " 'overlooking',\n",
              " 'action',\n",
              " 'it']"
            ]
          },
          "metadata": {},
          "execution_count": 64
        }
      ]
    },
    {
      "cell_type": "code",
      "source": [
        "corpus[9]\n"
      ],
      "metadata": {
        "colab": {
          "base_uri": "https://localhost:8080/"
        },
        "id": "bXDpeqCZdHLW",
        "outputId": "42122b9e-0aae-4c03-dfd5-9a40dce82b3b"
      },
      "execution_count": null,
      "outputs": [
        {
          "output_type": "execute_result",
          "data": {
            "text/plain": [
              "['appeared', 'carpets', 'vacummed', 'every', 'day']"
            ]
          },
          "metadata": {},
          "execution_count": 65
        }
      ]
    },
    {
      "cell_type": "markdown",
      "source": [
        "# Build the Model\n"
      ],
      "metadata": {
        "id": "cq4y1IxMdQnR"
      }
    },
    {
      "cell_type": "markdown",
      "source": [
        "We define some of the important hyperparameters that the model needs.\n",
        "\n",
        "*Size represents the size of the vector i.e dimensions of the vector to represent a word. The size can be chosen according to our data size. If our data is very small then we can set our size to a small value, but if we have significantly large dataset then we can set our vector size to 300. In our case, we set our size to 100\n",
        "\n",
        "*Window size represents the distance that should be considered between the target word and its neighboring word. Words exceeding the window size from the target word will not be considered for learning. Typically, a small window size is preferred.\n",
        "\n",
        "*Min count represents the minimum frequency of words. i.e if the particular word's occurrence is less than a min_count then we can simply ignore that word.\n",
        "\n",
        "*workers specify the number of worker threads we need to train the model\n",
        "\n",
        "*sg=1 implies we use skip-gram method for training  \n",
        "*sg=0 implies we use CBOW for training"
      ],
      "metadata": {
        "id": "p5_E0H9adXGm"
      }
    },
    {
      "cell_type": "code",
      "source": [
        "size = 100\n",
        "window_size = 2\n",
        "epochs = 120\n",
        "min_count = 2\n",
        "workers = 4\n",
        "sg = 1"
      ],
      "metadata": {
        "id": "N71INWbopkhV"
      },
      "execution_count": null,
      "outputs": []
    },
    {
      "cell_type": "code",
      "source": [
        "model = Word2Vec(corpus, sg=1, window=window_size, vector_size=size, min_count=min_count, workers=workers, epochs=epochs)\n"
      ],
      "metadata": {
        "id": "Ery0jOWNpocm"
      },
      "execution_count": null,
      "outputs": []
    },
    {
      "cell_type": "markdown",
      "source": [
        "To save and load the model, we can simply use save and load functions respectivley."
      ],
      "metadata": {
        "id": "l9UQdFDTp-yT"
      }
    },
    {
      "cell_type": "code",
      "source": [
        "import os\n",
        "\n",
        "# Create the directory if it doesn't exist\n",
        "os.makedirs(\"model/\", exist_ok=True)\n",
        "\n",
        "# Save the Word2Vec model\n",
        "model.wv.save(\"model/word2vec.model\")\n"
      ],
      "metadata": {
        "id": "y2RoMTaYp_0H"
      },
      "execution_count": null,
      "outputs": []
    },
    {
      "cell_type": "code",
      "source": [
        "from gensim.models import KeyedVectors\n",
        "\n",
        "# Load the Word2Vec model\n",
        "model = KeyedVectors.load('model/word2vec.model')\n"
      ],
      "metadata": {
        "id": "8JpHPOxkqBey"
      },
      "execution_count": null,
      "outputs": []
    },
    {
      "cell_type": "markdown",
      "source": [
        "#Evaluate the Embeddings"
      ],
      "metadata": {
        "id": "kvVBiECtvbIT"
      }
    },
    {
      "cell_type": "markdown",
      "source": [
        "After training, we assess the model's performance and understanding of word meanings. Using Gensim's most_similar function, we obtain a list of top similar words related to a given input word. For example, providing \"san_diego\" yields closely related city names."
      ],
      "metadata": {
        "id": "aMhng_y9vetn"
      }
    },
    {
      "cell_type": "code",
      "source": [
        "model.most_similar('san_diego')\n"
      ],
      "metadata": {
        "colab": {
          "base_uri": "https://localhost:8080/"
        },
        "id": "VTVcPfzovJtv",
        "outputId": "c5c12f2c-15ac-4ef6-b2d5-57ed39dfcd98"
      },
      "execution_count": null,
      "outputs": [
        {
          "output_type": "execute_result",
          "data": {
            "text/plain": [
              "[('la', 0.5867746472358704),\n",
              " ('san_antonio', 0.5835387110710144),\n",
              " ('anatole', 0.5419203042984009),\n",
              " ('boston', 0.5245999097824097),\n",
              " ('sea_world', 0.5182870626449585),\n",
              " ('studios', 0.517884373664856),\n",
              " ('universities', 0.5173631310462952),\n",
              " ('oceanside', 0.5145856738090515),\n",
              " ('chicago', 0.5138354301452637),\n",
              " ('jacksonville', 0.5136340856552124)]"
            ]
          },
          "metadata": {},
          "execution_count": 76
        }
      ]
    },
    {
      "cell_type": "markdown",
      "source": [
        "We can also apply arithmetic operations on our vector to check how accurate our vectors are, For instance, woman + king - man = queen:"
      ],
      "metadata": {
        "id": "mPjBj6NemZaO"
      }
    },
    {
      "cell_type": "code",
      "source": [
        "model.most_similar(positive=['woman', 'king'], negative=['man'], topn=1)\n"
      ],
      "metadata": {
        "colab": {
          "base_uri": "https://localhost:8080/"
        },
        "id": "gkkQgJhwvVYK",
        "outputId": "682ca56a-62a1-4198-8f87-eae34fc76e61"
      },
      "execution_count": null,
      "outputs": [
        {
          "output_type": "execute_result",
          "data": {
            "text/plain": [
              "[('queensize', 0.5518624782562256)]"
            ]
          },
          "metadata": {},
          "execution_count": 77
        }
      ]
    }
  ]
}